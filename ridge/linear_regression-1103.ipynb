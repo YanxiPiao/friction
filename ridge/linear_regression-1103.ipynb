{
 "cells": [
  {
   "cell_type": "code",
   "execution_count": 68,
   "id": "b9f19397",
   "metadata": {},
   "outputs": [],
   "source": [
    "import numpy as np\n",
    "import pandas as pd\n",
    "import math\n",
    "\n",
    "from matplotlib import pyplot as plt\n",
    "\n",
    "from sklearn.linear_model import LinearRegression\n",
    "from sklearn.preprocessing import PolynomialFeatures\n",
    "\n",
    "from sklearn.metrics import mean_squared_error\n",
    "from sklearn.metrics import mean_squared_error\n",
    "\n",
    "from sklearn.model_selection import train_test_split\n",
    "\n",
    "from sklearn.pipeline import make_pipeline\n",
    "from sklearn.linear_model import Ridge,RidgeCV"
   ]
  },
  {
   "cell_type": "markdown",
   "id": "2ddb5b47",
   "metadata": {},
   "source": [
    "## damping without noise "
   ]
  },
  {
   "cell_type": "markdown",
   "id": "061eedca",
   "metadata": {},
   "source": [
    "f=bv^3"
   ]
  },
  {
   "cell_type": "code",
   "execution_count": 202,
   "id": "9d864bcd",
   "metadata": {},
   "outputs": [
    {
     "name": "stdout",
     "output_type": "stream",
     "text": [
      "Alpha:0.000010, MSE:0.00, RMSE:0.00\n",
      "[999.9900001   0.       ]\n",
      "Alpha:0.000023, MSE:0.00, RMSE:0.01\n",
      "[999.97724206   0.        ]\n",
      "Alpha:0.000052, MSE:0.00, RMSE:0.02\n",
      "[999.94820794   0.        ]\n",
      "Alpha:0.000118, MSE:0.00, RMSE:0.03\n",
      "[999.88213703   0.        ]\n",
      "Alpha:0.000268, MSE:0.01, RMSE:0.08\n",
      "[999.73180237   0.        ]\n",
      "Alpha:0.000611, MSE:0.03, RMSE:0.18\n",
      "[999.3898323   0.       ]\n",
      "Alpha:0.001389, MSE:0.17, RMSE:0.41\n",
      "[998.61243252   0.        ]\n",
      "Alpha:0.003162, MSE:0.86, RMSE:0.93\n",
      "[996.84769082   0.        ]\n",
      "Alpha:0.007197, MSE:4.43, RMSE:2.11\n",
      "[992.85456792   0.        ]\n",
      "Alpha:0.016379, MSE:22.55, RMSE:4.75\n",
      "[983.88500935   0.        ]\n",
      "Alpha:0.037276, MSE:112.16, RMSE:10.59\n",
      "[964.06362486   0.        ]\n",
      "Alpha:0.084834, MSE:531.12, RMSE:23.05\n",
      "[921.79977106   0.        ]\n",
      "Alpha:0.193070, MSE:2274.43, RMSE:47.69\n",
      "[838.17394651   0.        ]\n",
      "Alpha:0.439397, MSE:8093.34, RMSE:89.96\n",
      "[694.73533781   0.        ]\n",
      "Alpha:1.000000, MSE:21712.75, RMSE:147.35\n",
      "[500.   0.]\n"
     ]
    }
   ],
   "source": [
    "data = pd.read_csv('friction_sample.csv')\n",
    "y=data['force_damping']\n",
    "x_=[data[['damping_coef','velocity']]]\n",
    "x=np.concatenate(x_,axis=1)\n",
    "x_train,x_test,y_train,y_test=train_test_split(x,y,test_size=0.2)\n",
    "alphas = [0.000001, 0.00001, 0.0001, 0.001, 0.01, 0.1,0.5, 1]\n",
    "alphas=np.logspace(-5, 0, base=10, num=15)\n",
    "for alpha in alphas:\n",
    "    ridge=Ridge(alpha=alpha,normalize=True).fit(x,y)\n",
    "    y_pred=ridge.predict(x)\n",
    "    mse=mean_squared_error(y,y_pred)\n",
    "    print(\"Alpha:{0:.6f}, MSE:{1:.2f}, RMSE:{2:.2f}\"\n",
    "          .format(alpha, mse, np.sqrt(mse)))\n",
    "    print(ridge.coef_)"
   ]
  },
  {
   "cell_type": "code",
   "execution_count": 203,
   "id": "93ab8f58",
   "metadata": {},
   "outputs": [
    {
     "name": "stdout",
     "output_type": "stream",
     "text": [
      "MSE:0.00, RMSE:0.06\n",
      "ridge coefficient:  [999.80003999   0.        ]\n"
     ]
    }
   ],
   "source": [
    "ridge=Ridge(alpha=0.0002,normalize=True).fit(x_train,y_train)\n",
    "y_pred=ridge.predict(x_test)\n",
    "mse=mean_squared_error(y_test,y_pred)\n",
    "print(\"MSE:{0:.2f}, RMSE:{1:.2f}\".format(mse,np.sqrt(mse)))\n",
    "print('ridge coefficient: ',ridge.coef_)"
   ]
  },
  {
   "cell_type": "code",
   "execution_count": 204,
   "id": "1699de95",
   "metadata": {},
   "outputs": [
    {
     "name": "stdout",
     "output_type": "stream",
     "text": [
      "MSE:0.00\n",
      "ridge coefficient:  [999.80003999   0.        ]\n"
     ]
    }
   ],
   "source": [
    "#alpha=0.0001\n",
    "#ridge=Ridge(alpha=alpha,normalize=True).fit(x,y)\n",
    "data = pd.read_csv('friction_sample_gen.csv')\n",
    "y=data['force_damping']\n",
    "x_=[data[['damping_coef','velocity']]]\n",
    "x=np.concatenate(x_,axis=1)\n",
    "\n",
    "y_pred=ridge.predict(x)\n",
    "mse=mean_squared_error(y,y_pred)\n",
    "print(\"MSE:{0:.2f}\".format(mse))\n",
    "print('ridge coefficient: ',ridge.coef_)"
   ]
  },
  {
   "cell_type": "code",
   "execution_count": 205,
   "id": "711088b8",
   "metadata": {},
   "outputs": [
    {
     "name": "stdout",
     "output_type": "stream",
     "text": [
      "605.964190988206 vs 605.9453512389235\n",
      "286.755047890411 vs 286.8000372039356\n",
      "553.80087505108 vs 553.7924658788696\n",
      "835.972614724823 vs 835.9077824892905\n",
      "548.942710687464 vs 548.9352729538386\n",
      "965.030147688705 vs 964.9395091078488\n",
      "776.342413478397 vs 776.2895048983827\n",
      "194.239981442589 vs 194.30347006954042\n",
      "630.950589562417 vs 630.9267535326758\n",
      "648.118230122366 vs 648.0909612510811\n"
     ]
    }
   ],
   "source": [
    "for i in range(10):\n",
    "    print(y[i], 'vs',y_pred[i])"
   ]
  },
  {
   "cell_type": "markdown",
   "id": "45922270",
   "metadata": {},
   "source": [
    "## damping with noise"
   ]
  },
  {
   "cell_type": "markdown",
   "id": "9f1e26b9",
   "metadata": {},
   "source": [
    "2% noise"
   ]
  },
  {
   "cell_type": "code",
   "execution_count": 206,
   "id": "ed0ced87",
   "metadata": {},
   "outputs": [
    {
     "name": "stdout",
     "output_type": "stream",
     "text": [
      "Alpha:0.000010, MSE:133.79, RMSE:11.57\n",
      "[997.43345239   0.        ]\n",
      "Alpha:0.000023, MSE:133.79, RMSE:11.57\n",
      "[997.42072697   0.        ]\n",
      "Alpha:0.000052, MSE:133.79, RMSE:11.57\n",
      "[997.39176707   0.        ]\n",
      "Alpha:0.000118, MSE:133.79, RMSE:11.57\n",
      "[997.32586508   0.        ]\n",
      "Alpha:0.000268, MSE:133.79, RMSE:11.57\n",
      "[997.17591476   0.        ]\n",
      "Alpha:0.000611, MSE:133.82, RMSE:11.57\n",
      "[996.83481897   0.        ]\n",
      "Alpha:0.001389, MSE:133.95, RMSE:11.57\n",
      "[996.05940667   0.        ]\n",
      "Alpha:0.003162, MSE:134.64, RMSE:11.60\n",
      "[994.29917665   0.        ]\n",
      "Alpha:0.007197, MSE:138.20, RMSE:11.76\n",
      "[990.31626247   0.        ]\n",
      "Alpha:0.016379, MSE:156.23, RMSE:12.50\n",
      "[981.36963523   0.        ]\n",
      "Alpha:0.037276, MSE:245.37, RMSE:15.66\n",
      "[961.59892556   0.        ]\n",
      "Alpha:0.084834, MSE:662.19, RMSE:25.73\n",
      "[919.4431224   0.       ]\n",
      "Alpha:0.193070, MSE:2396.60, RMSE:48.96\n",
      "[836.0310934   0.       ]\n",
      "Alpha:0.439397, MSE:8185.80, RMSE:90.48\n",
      "[692.95919602   0.        ]\n",
      "Alpha:1.000000, MSE:21735.65, RMSE:147.43\n",
      "[498.72171336   0.        ]\n"
     ]
    }
   ],
   "source": [
    "data = pd.read_csv('friction_sample.csv')\n",
    "y=data['force_damping_noise']\n",
    "x_=[data[['damping_coef','velocity']]]\n",
    "x=np.concatenate(x_,axis=1)\n",
    "x_train,x_test,y_train,y_test=train_test_split(x,y,test_size=0.2)\n",
    "alphas = [0.000001, 0.00001, 0.0001, 0.001, 0.01, 0.1,0.5, 1]\n",
    "alphas=np.logspace(-5, 0, base=10, num=15)\n",
    "for alpha in alphas:\n",
    "    ridge=Ridge(alpha=alpha,normalize=True).fit(x,y)\n",
    "    y_pred=ridge.predict(x)\n",
    "    mse=mean_squared_error(y,y_pred)\n",
    "    print(\"Alpha:{0:.6f}, MSE:{1:.2f}, RMSE:{2:.2f}\"\n",
    "          .format(alpha, mse, np.sqrt(mse)))\n",
    "    print(ridge.coef_)"
   ]
  },
  {
   "cell_type": "code",
   "execution_count": 207,
   "id": "bba33fb1",
   "metadata": {},
   "outputs": [
    {
     "name": "stdout",
     "output_type": "stream",
     "text": [
      "MSE:121.33, RMSE:11.01\n",
      "ridge coefficient:  [997.42481413   0.        ]\n"
     ]
    }
   ],
   "source": [
    "ridge=Ridge(alpha=0.0001,normalize=True).fit(x_train,y_train)\n",
    "y_pred=ridge.predict(x_test)\n",
    "mse=mean_squared_error(y_test,y_pred)\n",
    "print(\"MSE:{0:.2f}, RMSE:{1:.2f}\".format(mse,np.sqrt(mse)))\n",
    "print('ridge coefficient: ',ridge.coef_)"
   ]
  },
  {
   "cell_type": "code",
   "execution_count": 208,
   "id": "ced4f1c6",
   "metadata": {},
   "outputs": [
    {
     "name": "stdout",
     "output_type": "stream",
     "text": [
      "MSE:109.61\n",
      "ridge coefficient:  [997.42481413   0.        ]\n"
     ]
    }
   ],
   "source": [
    "#alpha=0.0001\n",
    "#ridge=Ridge(alpha=alpha,normalize=True).fit(x,y)\n",
    "data = pd.read_csv('friction_sample_gen.csv')\n",
    "y=data['force_damping_noise']\n",
    "x_=[data[['damping_coef','velocity']]]\n",
    "x=np.concatenate(x_,axis=1)\n",
    "\n",
    "y_pred=ridge.predict(x)\n",
    "mse=mean_squared_error(y,y_pred)\n",
    "print(\"MSE:{0:.2f}\".format(mse))\n",
    "print('ridge coefficient: ',ridge.coef_)"
   ]
  },
  {
   "cell_type": "code",
   "execution_count": 209,
   "id": "6b3a16ed",
   "metadata": {},
   "outputs": [
    {
     "name": "stdout",
     "output_type": "stream",
     "text": [
      "601.781257605351 vs 605.3574832017746\n",
      "282.1275195998 vs 286.97036297913195\n",
      "562.765323813207 vs 553.3284974988267\n",
      "843.326252584106 vs 834.773592495408\n",
      "542.286838724814 vs 548.4828438114382\n",
      "985.528312256443 vs 963.4987783238744\n",
      "783.905618190483 vs 775.2969501007079\n",
      "195.341895616323 vs 194.69354002326733\n",
      "639.715449851071 vs 630.2795371554138\n",
      "658.397730772955 vs 647.402967849957\n"
     ]
    }
   ],
   "source": [
    "for i in range(10):\n",
    "    print(y[i], 'vs',y_pred[i])"
   ]
  },
  {
   "cell_type": "markdown",
   "id": "5b596f37",
   "metadata": {},
   "source": [
    "# combined friction"
   ]
  },
  {
   "cell_type": "markdown",
   "id": "d538bc60",
   "metadata": {},
   "source": [
    "damping and belt pulley friction"
   ]
  },
  {
   "cell_type": "markdown",
   "id": "89dfb53d",
   "metadata": {},
   "source": [
    "https://eng.libretexts.org/Bookshelves/Mechanical_Engineering/Mechanics_Map_(Moore_et_al.)/06%3A_Friction_and_Friction_Applications/6.07%3A_Belt_Friction"
   ]
  },
  {
   "cell_type": "markdown",
   "id": "1313f985",
   "metadata": {},
   "source": [
    "## without noise"
   ]
  },
  {
   "cell_type": "code",
   "execution_count": 228,
   "id": "f32f24c3",
   "metadata": {},
   "outputs": [
    {
     "name": "stdout",
     "output_type": "stream",
     "text": [
      "Alpha:0.000010, MSE:0.00, RMSE:0.00\n",
      "[ 999.9900001     0.          -53.09221762 -106.18443523   26.54610881\n",
      "    0.            0.        ]\n",
      "Alpha:0.000023, MSE:0.00, RMSE:0.01\n",
      "[ 999.97724206    0.          -53.09188682 -106.18377365   26.54594341\n",
      "    0.            0.        ]\n",
      "Alpha:0.000052, MSE:0.00, RMSE:0.01\n",
      "[ 999.94820794    0.          -53.09113401 -106.18226803   26.54556701\n",
      "    0.            0.        ]\n",
      "Alpha:0.000118, MSE:0.00, RMSE:0.03\n",
      "[ 999.88213703    0.          -53.08942084 -106.17884168   26.54471042\n",
      "    0.            0.        ]\n",
      "Alpha:0.000268, MSE:0.01, RMSE:0.08\n",
      "[ 999.73180237    0.          -53.08552247 -106.17104494   26.54276123\n",
      "    0.            0.        ]\n",
      "Alpha:0.000611, MSE:0.03, RMSE:0.17\n",
      "[ 999.3898323     0.          -53.07665322 -106.15330644   26.53832661\n",
      "    0.            0.        ]\n",
      "Alpha:0.001389, MSE:0.16, RMSE:0.40\n",
      "[ 998.61243252    0.          -53.05648288 -106.11296577   26.52824144\n",
      "    0.            0.        ]\n",
      "Alpha:0.003162, MSE:0.81, RMSE:0.90\n",
      "[ 996.84769082    0.          -53.01065431 -106.02130862   26.50532716\n",
      "    0.            0.        ]\n",
      "Alpha:0.007197, MSE:4.16, RMSE:2.04\n",
      "[ 992.85456792    0.          -52.9067471  -105.8134942    26.45337355\n",
      "    0.            0.        ]\n",
      "Alpha:0.016379, MSE:21.14, RMSE:4.60\n",
      "[ 983.88500935    0.          -52.67227377 -105.34454753   26.33613688\n",
      "    0.            0.        ]\n",
      "Alpha:0.037276, MSE:105.11, RMSE:10.25\n",
      "[ 964.06362486    0.          -52.14874537 -104.29749074   26.07437268\n",
      "    0.            0.        ]\n",
      "Alpha:0.084834, MSE:497.71, RMSE:22.31\n",
      "[ 921.79977106    0.          -51.00649901 -102.01299802   25.50324951\n",
      "    0.            0.        ]\n",
      "Alpha:0.193070, MSE:2131.37, RMSE:46.17\n",
      "[838.17394651   0.         -48.63088247 -97.26176493  24.31544123\n",
      "   0.           0.        ]\n",
      "Alpha:0.439397, MSE:7584.28, RMSE:87.09\n",
      "[694.73533781   0.         -44.11824833 -88.23649666  22.05912416\n",
      "   0.           0.        ]\n",
      "Alpha:1.000000, MSE:20347.03, RMSE:142.64\n",
      "[500.           0.         -36.73299599 -73.46599197  18.36649799\n",
      "   0.           0.        ]\n"
     ]
    }
   ],
   "source": [
    "data = pd.read_csv('friction_sample.csv')\n",
    "y=data['force_total']\n",
    "x_=[data[['damping_coef','velocity','angle','pulley_coeff','euler_num','tension_small','tension_large']]]\n",
    "\n",
    "x=np.concatenate(x_,axis=1)\n",
    "x_train,x_test,y_train,y_test=train_test_split(x,y,test_size=0.2)\n",
    "alphas = [0.000001, 0.00001, 0.0001, 0.001, 0.01, 0.1,0.5, 1]\n",
    "alphas=np.logspace(-5, 0, base=10, num=15)\n",
    "for alpha in alphas:\n",
    "    ridge=Ridge(alpha=alpha,normalize=True).fit(x,y)\n",
    "    y_pred=ridge.predict(x)\n",
    "    mse=mean_squared_error(y,y_pred)\n",
    "    print(\"Alpha:{0:.6f}, MSE:{1:.2f}, RMSE:{2:.2f}\"\n",
    "          .format(alpha, mse, np.sqrt(mse)))\n",
    "    print(ridge.coef_)"
   ]
  },
  {
   "cell_type": "code",
   "execution_count": 229,
   "id": "9a9383e1",
   "metadata": {},
   "outputs": [
    {
     "name": "stdout",
     "output_type": "stream",
     "text": [
      "MSE:0.00, RMSE:0.06\n",
      "ridge coefficient:  [ 999.80003999    0.         -295.34113576  544.22411533 -281.60433875\n",
      "    0.           -4.30500877]\n"
     ]
    }
   ],
   "source": [
    "ridge=Ridge(alpha=0.0002,normalize=True).fit(x_train,y_train)\n",
    "y_pred=ridge.predict(x_test)\n",
    "mse=mean_squared_error(y_test,y_pred)\n",
    "print(\"MSE:{0:.2f}, RMSE:{1:.2f}\".format(mse,np.sqrt(mse)))\n",
    "print('ridge coefficient: ',ridge.coef_)"
   ]
  },
  {
   "cell_type": "code",
   "execution_count": 230,
   "id": "eead5a2d",
   "metadata": {},
   "outputs": [
    {
     "name": "stdout",
     "output_type": "stream",
     "text": [
      "MSE:0.00\n",
      "ridge coefficient:  [ 999.80003999    0.         -295.34113576  544.22411533 -281.60433875\n",
      "    0.           -4.30500877]\n"
     ]
    }
   ],
   "source": [
    "#alpha=0.00005\n",
    "#ridge=Ridge(alpha=alpha,normalize=True).fit(x,y)\n",
    "data = pd.read_csv('friction_sample_gen.csv')\n",
    "y=data['force_total']\n",
    "x_=[data[['damping_coef','velocity','angle','pulley_coeff','euler_num','tension_small','tension_large']]]\n",
    "x=np.concatenate(x_,axis=1)\n",
    "\n",
    "y_pred=ridge.predict(x)\n",
    "mse=mean_squared_error(y,y_pred)\n",
    "print(\"MSE:{0:.2f}\".format(mse))\n",
    "print('ridge coefficient: ',ridge.coef_)\n"
   ]
  },
  {
   "cell_type": "code",
   "execution_count": 231,
   "id": "42d636f3",
   "metadata": {},
   "outputs": [
    {
     "name": "stdout",
     "output_type": "stream",
     "text": [
      "1262.83232742738 vs 1262.7337432856607\n",
      "687.283666026638 vs 687.3001685998588\n",
      "402.725559382739 vs 402.7989621972406\n",
      "302.184572628475 vs 302.27807961949156\n",
      "1151.64955542786 vs 1151.573203394127\n",
      "944.874554757373 vs 944.8395494544229\n",
      "988.187067439837 vs 988.1434013665043\n",
      "730.550124944432 vs 730.5579759561806\n",
      "1095.48865502171 vs 1095.4235329220623\n",
      "426.066408678817 vs 426.1351442569053\n"
     ]
    }
   ],
   "source": [
    "for i in range(10):\n",
    "    print(y[i], 'vs',y_pred[i])"
   ]
  },
  {
   "cell_type": "markdown",
   "id": "05a91a52",
   "metadata": {},
   "source": [
    "## total friction with 2% noise"
   ]
  },
  {
   "cell_type": "code",
   "execution_count": 232,
   "id": "feb01e09",
   "metadata": {},
   "outputs": [
    {
     "name": "stdout",
     "output_type": "stream",
     "text": [
      "Alpha:0.000010, MSE:254.95, RMSE:15.97\n",
      "[ 999.98528256    0.          -88.50957052 -177.01914105   44.25478526\n",
      "    0.            0.        ]\n",
      "Alpha:0.000023, MSE:254.95, RMSE:15.97\n",
      "[ 999.97252457    0.          -88.50908911 -177.01817822   44.25454456\n",
      "    0.            0.        ]\n",
      "Alpha:0.000052, MSE:254.95, RMSE:15.97\n",
      "[ 999.94349059    0.          -88.50799351 -177.01598703   44.25399676\n",
      "    0.            0.        ]\n",
      "Alpha:0.000118, MSE:254.95, RMSE:15.97\n",
      "[ 999.87741999    0.          -88.50550023 -177.01100046   44.25275012\n",
      "    0.            0.        ]\n",
      "Alpha:0.000268, MSE:254.95, RMSE:15.97\n",
      "[ 999.72708604    0.          -88.49982659 -176.99965317   44.24991329\n",
      "    0.            0.        ]\n",
      "Alpha:0.000611, MSE:254.98, RMSE:15.97\n",
      "[ 999.38511759    0.          -88.48691775 -176.97383549   44.24345887\n",
      "    0.            0.        ]\n",
      "Alpha:0.001389, MSE:255.10, RMSE:15.97\n",
      "[ 998.60772148    0.          -88.45755736 -176.91511472   44.22877868\n",
      "    0.            0.        ]\n",
      "Alpha:0.003162, MSE:255.75, RMSE:15.99\n",
      "[ 996.8429881     0.          -88.39083142 -176.78166284   44.19541571\n",
      "    0.            0.        ]\n",
      "Alpha:0.007197, MSE:259.10, RMSE:16.10\n",
      "[ 992.84988404    0.          -88.23945686 -176.47891372   44.11972843\n",
      "    0.            0.        ]\n",
      "Alpha:0.016379, MSE:276.08, RMSE:16.62\n",
      "[ 983.88036778    0.          -87.89742849 -175.79485699   43.94871425\n",
      "    0.            0.        ]\n",
      "Alpha:0.037276, MSE:360.05, RMSE:18.98\n",
      "[ 964.0590768     0.          -87.13154551 -174.26309102   43.56577276\n",
      "    0.            0.        ]\n",
      "Alpha:0.084834, MSE:752.65, RMSE:27.43\n",
      "[ 921.79542239    0.          -85.44997702 -170.89995403   42.72498851\n",
      "    0.            0.        ]\n",
      "Alpha:0.193070, MSE:2386.29, RMSE:48.85\n",
      "[ 838.16999234    0.          -81.90683298 -163.81366596   40.95341649\n",
      "    0.            0.        ]\n",
      "Alpha:0.439397, MSE:7839.15, RMSE:88.54\n",
      "[ 694.73206034    0.          -75.01100271 -150.02200541   37.50550135\n",
      "    0.            0.        ]\n",
      "Alpha:1.000000, MSE:20601.78, RMSE:143.53\n",
      "[ 499.9976412     0.          -63.29611377 -126.59222754   31.64805689\n",
      "    0.            0.        ]\n"
     ]
    }
   ],
   "source": [
    "data = pd.read_csv('friction_sample.csv')\n",
    "y=data['force_total_noise']\n",
    "x_=[data[['damping_coef','velocity','angle','pulley_coeff','euler_num','tension_small','tension_large']]]\n",
    "x=np.concatenate(x_,axis=1)\n",
    "x_train,x_test,y_train,y_test=train_test_split(x,y,test_size=0.2)\n",
    "alphas = [0.000001, 0.00001, 0.0001, 0.001, 0.01, 0.1,0.5, 1]\n",
    "alphas=np.logspace(-5, 0, base=10, num=15)\n",
    "for alpha in alphas:\n",
    "    ridge=Ridge(alpha=alpha,normalize=True).fit(x,y)\n",
    "    y_pred=ridge.predict(x)\n",
    "    mse=mean_squared_error(y,y_pred)\n",
    "    print(\"Alpha:{0:.6f}, MSE:{1:.2f}, RMSE:{2:.2f}\"\n",
    "          .format(alpha, mse, np.sqrt(mse)))\n",
    "    print(ridge.coef_)"
   ]
  },
  {
   "cell_type": "code",
   "execution_count": 233,
   "id": "816707a0",
   "metadata": {},
   "outputs": [
    {
     "name": "stdout",
     "output_type": "stream",
     "text": [
      "MSE:195.55, RMSE:13.98\n",
      "ridge coefficient:  [ 998.50120226    0.         -183.48157914  338.10088741 -174.94755221\n",
      "    0.           -2.63268409]\n"
     ]
    }
   ],
   "source": [
    "ridge=Ridge(alpha=0.0002,normalize=True).fit(x_train,y_train)\n",
    "y_pred=ridge.predict(x_test)\n",
    "mse=mean_squared_error(y_test,y_pred)\n",
    "print(\"MSE:{0:.2f}, RMSE:{1:.2f}\".format(mse,np.sqrt(mse)))\n",
    "print('ridge coefficient: ',ridge.coef_)"
   ]
  },
  {
   "cell_type": "code",
   "execution_count": 234,
   "id": "cc975ecf",
   "metadata": {},
   "outputs": [
    {
     "name": "stdout",
     "output_type": "stream",
     "text": [
      "MSE:317.05\n",
      "ridge coefficient:  [ 999.89529288    0.          -88.50617471 -177.01234942   44.25308735\n",
      "    0.            0.        ]\n"
     ]
    }
   ],
   "source": [
    "alpha=0.0001\n",
    "ridge=Ridge(alpha=alpha,normalize=True).fit(x,y)\n",
    "data = pd.read_csv('friction_sample_gen.csv')\n",
    "y=data['force_total_noise']\n",
    "x_=[data[['damping_coef','velocity','angle','pulley_coeff','euler_num','tension_small','tension_large']]]\n",
    "x=np.concatenate(x_,axis=1)\n",
    "\n",
    "y_pred=ridge.predict(x)\n",
    "mse=mean_squared_error(y,y_pred)\n",
    "print(\"MSE:{0:.2f}\".format(mse))\n",
    "print('ridge coefficient: ',ridge.coef_)"
   ]
  },
  {
   "cell_type": "code",
   "execution_count": 235,
   "id": "af5fadde",
   "metadata": {
    "scrolled": true
   },
   "outputs": [
    {
     "name": "stdout",
     "output_type": "stream",
     "text": [
      "1245.16022915345 vs 1262.9140383134286\n",
      "694.041634003448 vs 687.4256409561904\n",
      "389.333819555353 vs 402.8973295724793\n",
      "297.352794089657 vs 302.36687017551026\n",
      "1169.71432456545 vs 1151.7429079419103\n",
      "962.938202122997 vs 944.9895580864945\n",
      "974.833755232865 vs 988.2975356404394\n",
      "734.117656424456 vs 730.6875695676214\n",
      "1087.05400212543 vs 1095.5878879819622\n",
      "433.756460957352 vs 426.235734915418\n"
     ]
    }
   ],
   "source": [
    "for i in range(10):\n",
    "    print(y[i], 'vs',y_pred[i])"
   ]
  },
  {
   "cell_type": "code",
   "execution_count": null,
   "id": "6399431c",
   "metadata": {},
   "outputs": [],
   "source": []
  }
 ],
 "metadata": {
  "kernelspec": {
   "display_name": "Python 3",
   "language": "python",
   "name": "python3"
  },
  "language_info": {
   "codemirror_mode": {
    "name": "ipython",
    "version": 3
   },
   "file_extension": ".py",
   "mimetype": "text/x-python",
   "name": "python",
   "nbconvert_exporter": "python",
   "pygments_lexer": "ipython3",
   "version": "3.9.4"
  }
 },
 "nbformat": 4,
 "nbformat_minor": 5
}
